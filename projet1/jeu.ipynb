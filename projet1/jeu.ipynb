{
 "cells": [
  {
   "cell_type": "markdown",
   "id": "618b19c1",
   "metadata": {},
   "source": [
    "# "
   ]
  },
  {
   "cell_type": "code",
   "execution_count": 5,
   "id": "6c9c1ab6",
   "metadata": {},
   "outputs": [
    {
     "ename": "ModuleNotFoundError",
     "evalue": "No module named 'button'",
     "output_type": "error",
     "traceback": [
      "\u001b[1;31m---------------------------------------------------------------------------\u001b[0m",
      "\u001b[1;31mModuleNotFoundError\u001b[0m                       Traceback (most recent call last)",
      "\u001b[1;32m~\\AppData\\Local\\Temp\\ipykernel_608\\1874180420.py\u001b[0m in \u001b[0;36m<module>\u001b[1;34m\u001b[0m\n\u001b[0;32m      1\u001b[0m \u001b[1;32mimport\u001b[0m \u001b[0mcv2\u001b[0m\u001b[1;33m,\u001b[0m\u001b[0msys\u001b[0m\u001b[1;33m,\u001b[0m\u001b[0mtime\u001b[0m\u001b[1;33m,\u001b[0m\u001b[0mpygame\u001b[0m\u001b[1;33m,\u001b[0m\u001b[0mrandom\u001b[0m\u001b[1;33m\u001b[0m\u001b[1;33m\u001b[0m\u001b[0m\n\u001b[1;32m----> 2\u001b[1;33m \u001b[1;32mfrom\u001b[0m \u001b[0mbutton\u001b[0m \u001b[1;32mimport\u001b[0m \u001b[0mButton\u001b[0m\u001b[1;33m\u001b[0m\u001b[1;33m\u001b[0m\u001b[0m\n\u001b[0m\u001b[0;32m      3\u001b[0m \u001b[1;32mimport\u001b[0m \u001b[0mmediapipe\u001b[0m \u001b[1;32mas\u001b[0m \u001b[0mmp\u001b[0m\u001b[1;33m\u001b[0m\u001b[1;33m\u001b[0m\u001b[0m\n\u001b[0;32m      4\u001b[0m \u001b[1;33m\u001b[0m\u001b[0m\n\u001b[0;32m      5\u001b[0m \u001b[1;33m\u001b[0m\u001b[0m\n",
      "\u001b[1;31mModuleNotFoundError\u001b[0m: No module named 'button'"
     ]
    }
   ],
   "source": [
    "import cv2,sys,time,pygame,random\n",
    "from button import Button\n",
    "import mediapipe as mp\n",
    "\n",
    "\n",
    "\n",
    "pygame.init()\n",
    "\n",
    "def startInterface(screen):\n",
    "    clock = pygame.time.Clock()\n",
    "    font = pygame.font.SysFont('microsoftsansserif', 50)\n",
    "\n",
    "    col1 = (255, 255, 255)\n",
    "    col2 = (125, 125, 125)\n",
    "    commencer_img = font.render(' Commencer ', True, col1)\n",
    "    aider_img = font.render(' Aider ', True, col1)\n",
    "    histoir_img = font.render(' Historique ', True, col1)\n",
    "    quit_img = font.render(' Quit ', True, col1)\n",
    "    \n",
    "\n",
    "    commencer_button = Button(275, 125, commencer_img, 1)\n",
    "    aider_button = Button(336, 225, aider_img, 1)\n",
    "    histoir_button = Button(320, 325, histoir_img, 1)\n",
    "    quit_button = Button(336, 525, quit_img, 1)\n",
    "    play2_button = Button(336, 425, play2_img, 1)"
   ]
  },
  {
   "cell_type": "markdown",
   "id": "88c1fdd2",
   "metadata": {},
   "source": [
    "# Définir les polices, les couleurs, les boutons"
   ]
  },
  {
   "cell_type": "code",
   "execution_count": null,
   "id": "286a53b3",
   "metadata": {},
   "outputs": [],
   "source": [
    "    while True:\n",
    "        screen.fill((41, 36, 33))\n",
    "        if commencer_button.draw(screen):\n",
    "            return runDemo(screen)\n",
    "        if aider_button.draw(screen):\n",
    "            return aider(screen)\n",
    "        if histoir_button.draw(screen) :\n",
    "            return histoire(screen)\n",
    "        if quit_button.draw(screen) :\n",
    "            pygame.quit()\n",
    "            sys.exit()\n",
    "        # if play2_button.draw():\n",
    "        #     return runDemo2(screen)\n",
    "        for event in pygame.event.get():\n",
    "            if event.type == pygame.QUIT:\n",
    "                run = False\n",
    "                pygame.quit()\n",
    "                quit()\n",
    "        pygame.display.update()"
   ]
  },
  {
   "cell_type": "markdown",
   "id": "43d7e92c",
   "metadata": {},
   "source": [
    "# Boucle pour afficher l'interface"
   ]
  },
  {
   "cell_type": "code",
   "execution_count": null,
   "id": "18ac60e5",
   "metadata": {},
   "outputs": [],
   "source": [
    "def endInterface(screen, score1, score2):\n",
    "    clock = pygame.time.Clock()\n",
    "    font = pygame.font.SysFont('microsoftsansserif', 50)\n",
    "    msg = 'win!' if score1 > score2 else 'lost'\n",
    "    texts = [font.render(msg, True,'red'),\n",
    "            font.render('Press ESCAPE to quit.', True,'red'),\n",
    "            font.render('Press ENTER to continue or play again.', True,'red')]\n",
    "    positions = [[220, 200], [200, 270], [200, 300]]\n",
    "    while True:\n",
    "        screen.fill('black')\n",
    "        image = pygame.image.load('D:/bj1.webp')\n",
    "        screen.blit(image, (0, 0))\n",
    "        for event0 in pygame.event.get():\n",
    "            if event0.type == pygame.QUIT:\n",
    "                pygame.quit()\n",
    "                sys.exit()\n",
    "            if event0.type == pygame.KEYDOWN:\n",
    "                if event0.key == pygame.K_RETURN:\n",
    "                    return startInterface(screen)\n",
    "                elif event0.key == pygame.K_ESCAPE:\n",
    "                    pygame.quit()\n",
    "                    sys.exit()\n",
    "        for text, pos in zip(texts, positions):\n",
    "            screen.blit(text, pos)\n",
    "        clock.tick(10)\n",
    "        pygame.display.update()"
   ]
  },
  {
   "cell_type": "markdown",
   "id": "3bddc0b0",
   "metadata": {},
   "source": [
    "# page de fin"
   ]
  },
  {
   "cell_type": "code",
   "execution_count": null,
   "id": "782d4e23",
   "metadata": {},
   "outputs": [],
   "source": [
    "def histoire(screen):\n",
    "    clock = pygame.time.Clock()\n",
    "    note1 = open(\"D:\\pythonProject1\\histoir.txt\",'r')\n",
    "    note = note1.readline()\n",
    "    font = pygame.font.SysFont('microsoftsansserif', 50)\n",
    "    text = font.render(str(note),True,'white')\n",
    "    while True:\n",
    "        screen.fill('black')\n",
    "        for event1 in pygame.event.get():\n",
    "            if event1.type == pygame.QUIT:\n",
    "                pygame.quit()\n",
    "                sys.exit()\n",
    "            if event1.type == pygame.KEYDOWN:\n",
    "                if event1.key == pygame.K_RETURN or event1.key == pygame.K_ESCAPE:\n",
    "                    return startInterface(screen)\n",
    "        screen.blit(text, [75, 75])\n",
    "        clock.tick(10)\n",
    "        pygame.display.update()"
   ]
  },
  {
   "cell_type": "markdown",
   "id": "d41e658d",
   "metadata": {},
   "source": [
    "# enregistrer l'historique"
   ]
  },
  {
   "cell_type": "code",
   "execution_count": null,
   "id": "63e6637a",
   "metadata": {},
   "outputs": [],
   "source": [
    "def AI(self, ball_rect_y):\n",
    "    a = random.random()\n",
    "    if a >= 0.5:\n",
    "        if ball_rect_y - self.rect.y > 10:\n",
    "            self.rect.y += 10\n",
    "        if ball_rect_y - self.rect.y < 10:\n",
    "            self.rect.y -= 10"
   ]
  },
  {
   "cell_type": "markdown",
   "id": "c027b3da",
   "metadata": {},
   "source": [
    "# AI"
   ]
  },
  {
   "cell_type": "code",
   "execution_count": null,
   "id": "08751acf",
   "metadata": {},
   "outputs": [],
   "source": [
    "def aider(screen):\n",
    "    clock = pygame.time.Clock()\n",
    "    font = pygame.font.SysFont('microsoftsansserif', 26)\n",
    "    text1 = font.render('La reconnaissance de la main contrôle la raquette gauche', True, 'white')\n",
    "    text2 = font.render('le joueur qui touche 5 points gagne', True, 'white')\n",
    "    while True:\n",
    "        screen.fill('black')\n",
    "        for event in pygame.event.get():\n",
    "            if event.type == pygame.QUIT:\n",
    "                pygame.quit()\n",
    "                sys.exit()\n",
    "            if event.type == pygame.KEYDOWN:\n",
    "                if event.key == pygame.K_RETURN or event.key == pygame.K_ESCAPE:\n",
    "                    return startInterface(screen)\n",
    "\n",
    "        screen.blit(text1, [50, 100])\n",
    "        screen.blit(text2, [130, 200])\n",
    "        clock.tick(10)\n",
    "        pygame.display.update()"
   ]
  },
  {
   "cell_type": "markdown",
   "id": "f571c6a0",
   "metadata": {},
   "source": [
    "# aide à la définition"
   ]
  },
  {
   "cell_type": "code",
   "execution_count": null,
   "id": "0de24249",
   "metadata": {},
   "outputs": [],
   "source": [
    "def runDemo(screen):\n",
    "    clock = pygame.time.Clock()\n",
    "    cap = cv2.VideoCapture(0, cv2.CAP_DSHOW)\n",
    "    mpHands = mp.solutions.hands\n",
    "    hands = mpHands.Hands()\n",
    "    mpDraw = mp.solutions.drawing_utils\n",
    "\n",
    "    ball = pygame.Rect(390, 285, 30, 30)\n",
    "    dy = 5\n",
    "    dx = 5\n",
    "\n",
    "    # DECLARER LES PADELLES\n",
    "    paddle1 = pygame.Rect(10, 300, 10, 80)\n",
    "    paddle2 = pygame.Rect(790, 300, 10, 80)\n",
    "    score1 = 0\n",
    "    score2 = 0\n",
    "    pygame.font.init()\n",
    "    font3 = pygame.font.Font(None, 50)\n",
    "\n",
    "    run = True\n",
    "    menu_state = 'main'\n",
    "    game_paused = False\n",
    "\n",
    "    col1 = (255, 255, 255)\n",
    "    col2 = (125, 125, 125)\n",
    "    font = pygame.font.SysFont('microsoftsansserif', 50)\n",
    "    back_menu_img = font.render('Back menu', True, col1)\n",
    "    continu_img = font.render('Continu', True, col1)\n",
    "    continu_button = Button(275, 125, continu_img, 1)\n",
    "    back_menu_button = Button(336, 525,back_menu_img, 1)\n",
    "\n",
    "\n",
    "\n",
    "\n",
    "    while run:\n",
    "        ret, img = cap.read()\n",
    "        if ret:\n",
    "            img = cv2.flip(img, 1)  # 镜像手\n",
    "            imgRGB = cv2.cvtColor(img, cv2.COLOR_BGR2RGB)\n",
    "            result = hands.process(imgRGB)\n",
    "\n",
    "            if result.multi_hand_landmarks:\n",
    "                for handLms in result.multi_hand_landmarks:\n",
    "                    mpDraw.draw_landmarks(img, handLms, mpHands.HAND_CONNECTIONS)\n",
    "                    for i, lm in enumerate(handLms.landmark):\n",
    "                        if i == 8:\n",
    "                            Ypos = lm.y\n",
    "                            paddle1.y = int(Ypos*640)\n",
    "\n",
    "            cv2.imshow('img', img)\n",
    "\n",
    "            ball.y = ball.y + dy\n",
    "            ball.x = ball.x + dx\n",
    "            paddle2.y = ball.y\n",
    "            if ball.x < 0 :\n",
    "                dx = -dx\n",
    "                score1 += 1\n",
    "            if ball.x > 775:\n",
    "                dx = -dx\n",
    "                score2 += 1\n",
    "            if ball.y < 0 or ball.y > 565:\n",
    "                dy = -dy\n",
    "\n",
    "            # imposer un limiteur pour les padelles\n",
    "            if paddle1.y < 0:\n",
    "                paddle1.y = 0\n",
    "            if paddle2.y < 0:\n",
    "                paddle2.y = 0\n",
    "            if paddle1.y > 790:\n",
    "                paddle1.y = 790\n",
    "            if paddle2.y > 790:\n",
    "                paddle2.y = 790\n",
    "\n",
    "\n",
    "            elif score1 >= 5:\n",
    "                temps = time.strftime('%Y-%m-%d %H:%M:%S', time.localtime(time.time()))\n",
    "                note3 = open(\"D:\\histoire.txt\", mode='w')\n",
    "                note3.write(str(['player', score1, 'ordinateur', score2, temps]))\n",
    "                note3.close()\n",
    "                return endInterface(screen, score1, score2)\n",
    "            elif score2 >= 5:\n",
    "                temps = time.strftime('%Y-%m-%d %H:%M:%S', time.localtime(time.time()))\n",
    "                note3 = open(\"D:\\histoire.txt\", mode='w')\n",
    "                note3.write(str(['player', score1, 'ordinateur', score2, temps]))\n",
    "                note3.close()\n",
    "                return endInterface(screen, score1, score2)\n",
    "            # COLIISION\n",
    "            if ball.colliderect(paddle1) or ball.colliderect(paddle2):\n",
    "                dx = -1.2 * dx\n",
    "\n",
    "\n",
    "        for event in pygame.event.get():\n",
    "            if event.type == pygame.QUIT:\n",
    "                pygame.quit()\n",
    "                sys.exit()\n",
    "                screen.fill('black')\n",
    "        pygame.draw.ellipse(screen, col1, ball)\n",
    "        pygame.draw.rect(screen, col1, paddle1)\n",
    "        pygame.draw.rect(screen, col1, paddle2)\n",
    "\n",
    "\n",
    "        for event in pygame.event.get():\n",
    "            if event.type == pygame.KEYDOWN:\n",
    "                if event.key == pygame.K_SPACE:\n",
    "                    game_passed = True\n",
    "            if event.type == pygame.QUIT:\n",
    "                run = False\n",
    "                pygame.quit()\n",
    "                quit()\n",
    "\n",
    "            # afficher le score\n",
    "            text = font3.render(str(score1), True, \"white\")\n",
    "            screen.blit(text, (220, 100))\n",
    "            text = font3.render(str(score2), True, \"white\")\n",
    "            screen.blit(text, (520, 0))\n",
    "\n",
    "        pygame.display.update()\n",
    "        clock.tick(30)"
   ]
  },
  {
   "cell_type": "markdown",
   "id": "b724788a",
   "metadata": {},
   "source": [
    "# programme principal du jeu"
   ]
  },
  {
   "cell_type": "code",
   "execution_count": null,
   "id": "0a75ff78",
   "metadata": {},
   "outputs": [],
   "source": [
    "def main():\n",
    "    # 初始化\n",
    "    pygame.init()\n",
    "    pygame.mixer.init()\n",
    "    size=(800,600)\n",
    "    screen=pygame.display.set_mode(size)\n",
    "    pygame.display.set_caption('jeu pong,乒乓球游戏')\n",
    "    while True:\n",
    "        return startInterface(screen)\n",
    "\n",
    "if __name__ == '__main__':\n",
    "    main()"
   ]
  },
  {
   "cell_type": "markdown",
   "id": "35e00f1d",
   "metadata": {},
   "source": [
    "# Évaluation de groupe : Nous avons décidé d'écrire 2 codes, car nous pensons que le processus d'écriture est très utile à notre capacité. J'ai passé un bon moment à travailler avec yezhan. Nous avons discuté des bugs (fps pas trop élevés, fonction de collision simplifiée, etc.)"
   ]
  },
  {
   "cell_type": "markdown",
   "id": "492ced2c",
   "metadata": {},
   "source": [
    "# Auto-évaluation : J'ai beaucoup appris dans ce projet. Tels que mediapipe, cv2, pygame, etc. Mais la chose la plus importante est le processus de ma recherche. Ma capacité d'apprentissage s'est améliorée."
   ]
  }
 ],
 "metadata": {
  "kernelspec": {
   "display_name": "Python 3 (ipykernel)",
   "language": "python",
   "name": "python3"
  },
  "language_info": {
   "codemirror_mode": {
    "name": "ipython",
    "version": 3
   },
   "file_extension": ".py",
   "mimetype": "text/x-python",
   "name": "python",
   "nbconvert_exporter": "python",
   "pygments_lexer": "ipython3",
   "version": "3.9.13"
  }
 },
 "nbformat": 4,
 "nbformat_minor": 5
}
