{
 "cells": [
  {
   "cell_type": "code",
   "execution_count": null,
   "id": "20342e72",
   "metadata": {},
   "outputs": [],
   "source": [
    "import pygame\n",
    "\n",
    "\n",
    "class Button():\n",
    "    def __init__(self, x, y, image, scale):\n",
    "        width = image.get_width()\n",
    "        height = image.get_height()\n",
    "        self.image = pygame.transform.scale(image, (int(width * scale), int(height * scale)))\n",
    "        self.rect = self.image.get_rect()\n",
    "        self.rect.topleft = (x,y)\n",
    "        self.clicked = False\n",
    "\n",
    "    def draw(self, surface):\n",
    "        action1 = False\n",
    "        pygame.draw.rect(surface, (0,0,0), (self.rect.x, self.rect.y, self.image.get_width(), self.image.get_height()))\n",
    "        bk = pygame.draw.rect(surface, (255,255,255), (self.rect.x, self.rect.y, self.image.get_width(), self.image.get_height()), 3)\n",
    "        pos = pygame.mouse.get_pos()\n",
    "\n",
    "        if bk.collidepoint(pos):\n",
    "            if pygame.mouse.get_pressed()[0] == 1 and self.clicked == False:\n",
    "                self.clicked = True\n",
    "                action1 = True\n",
    "                # pygame.draw.rect(surface,(0,0,255),(self.rect.x, self.rect.y, self.image.get_width(), self.image.get_height()))\n",
    "\n",
    "        if pygame.mouse.get_pressed()[0] == 0:\n",
    "            self.clicked = False\n",
    "\n",
    "\n",
    "        surface.blit(self.image, (self.rect.x, self.rect.y))\n",
    "\n",
    "        return action1\n"
   ]
  },
  {
   "cell_type": "markdown",
   "id": "3fffe0a3",
   "metadata": {},
   "source": [
    "# définir le bouton"
   ]
  },
  {
   "cell_type": "code",
   "execution_count": null,
   "id": "be6392df",
   "metadata": {},
   "outputs": [],
   "source": []
  }
 ],
 "metadata": {
  "kernelspec": {
   "display_name": "Python 3 (ipykernel)",
   "language": "python",
   "name": "python3"
  },
  "language_info": {
   "codemirror_mode": {
    "name": "ipython",
    "version": 3
   },
   "file_extension": ".py",
   "mimetype": "text/x-python",
   "name": "python",
   "nbconvert_exporter": "python",
   "pygments_lexer": "ipython3",
   "version": "3.9.13"
  }
 },
 "nbformat": 4,
 "nbformat_minor": 5
}
